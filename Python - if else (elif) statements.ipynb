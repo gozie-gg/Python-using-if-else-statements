{
 "cells": [
  {
   "cell_type": "markdown",
   "id": "223a647c",
   "metadata": {},
   "source": [
    "#### Write a code that contains if, elif, else statement using and, or, >, <, =, <=, >= "
   ]
  },
  {
   "cell_type": "markdown",
   "id": "aa4b8473",
   "metadata": {},
   "source": [
    "A grading system code where\n",
    "A+\t97–100\t4.0\n",
    "A\t93–96\t4.0\n",
    "A-\t90–92\t3.7\n",
    "B+\t87–89\t3.3\n",
    "B\t83–86\t3.0\n",
    "B-\t80–82\t2.7\n",
    "C+\t77–79\t2.3\n",
    "C\t73–76\t2.0\n",
    "C-\t70–72\t1.7\n",
    "D+\t67–69\t1.3\n",
    "D\t65–66\t1.0\n",
    "F\tBelow 65\t0.0"
   ]
  },
  {
   "cell_type": "code",
   "execution_count": 7,
   "id": "6a509138",
   "metadata": {},
   "outputs": [
    {
     "name": "stdout",
     "output_type": "stream",
     "text": [
      "Enter student score: 101\n",
      "Comrade, who art thou?\n"
     ]
    }
   ],
   "source": [
    "score = float(input('Enter student score: '))\n",
    "\n",
    "if score >= 97 and score <=100:\n",
    " print ('A')\n",
    " print ('Grade: 4.0')\n",
    "\n",
    "elif score >= 93 and score <=96:\n",
    " print ('A')\n",
    " print ('Grade: 4.0')\n",
    "\n",
    "elif score >= 90 and score <=92:\n",
    " print ('A-')\n",
    " print ('Grade: 3.7')\n",
    "\n",
    "elif score >= 87 and score <=89:\n",
    " print ('B+')\n",
    " print ('Grade: 3.3')\n",
    "\n",
    "elif score >= 83 and score <=86:\n",
    " print ('B')\n",
    " print ('Grade: 3.0')\n",
    "\n",
    "elif score >= 80 and score <=82:\n",
    " print ('A')\n",
    " print ('Grade: 2.7')\n",
    "\n",
    "elif score >= 77 and score <=79:\n",
    " print ('C+')\n",
    " print ('Grade: 2.3')\n",
    "\n",
    "elif score >= 73 and score <=76:\n",
    " print ('C')\n",
    " print ('Grade: 2.0')\n",
    "\n",
    "elif score >= 70 and score <=72:\n",
    " print ('C-')\n",
    " print ('Grade: 1.7')\n",
    "\n",
    "elif score >= 67 and score <=69:\n",
    " print ('D+')\n",
    " print ('Grade: 1.3')\n",
    "\n",
    "elif score >= 65 and score <=66:\n",
    " print ('D')\n",
    " print ('Grade: 1.0')\n",
    "\n",
    "elif score < 65:\n",
    " print ('F')\n",
    " print ('E be like say na to go Primary 1, comrade')\n",
    "\n",
    "else: \n",
    " print('Comrade, who art thou?')"
   ]
  },
  {
   "cell_type": "code",
   "execution_count": null,
   "id": "998e7b9f",
   "metadata": {},
   "outputs": [],
   "source": []
  }
 ],
 "metadata": {
  "kernelspec": {
   "display_name": "Python 3 (ipykernel)",
   "language": "python",
   "name": "python3"
  },
  "language_info": {
   "codemirror_mode": {
    "name": "ipython",
    "version": 3
   },
   "file_extension": ".py",
   "mimetype": "text/x-python",
   "name": "python",
   "nbconvert_exporter": "python",
   "pygments_lexer": "ipython3",
   "version": "3.9.12"
  }
 },
 "nbformat": 4,
 "nbformat_minor": 5
}
